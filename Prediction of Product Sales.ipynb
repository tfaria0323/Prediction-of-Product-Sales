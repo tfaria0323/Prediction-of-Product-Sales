{
  "nbformat": 4,
  "nbformat_minor": 0,
  "metadata": {
    "colab": {
      "provenance": [],
      "authorship_tag": "ABX9TyNs0esFEVHfjZgu5UfDdN/a",
      "include_colab_link": true
    },
    "kernelspec": {
      "name": "python3",
      "display_name": "Python 3"
    },
    "language_info": {
      "name": "python"
    }
  },
  "cells": [
    {
      "cell_type": "markdown",
      "metadata": {
        "id": "view-in-github",
        "colab_type": "text"
      },
      "source": [
        "<a href=\"https://colab.research.google.com/github/tfaria0323/Prediction-of-Product-Sales/blob/main/Prediction%20of%20Product%20Sales.ipynb\" target=\"_parent\"><img src=\"https://colab.research.google.com/assets/colab-badge.svg\" alt=\"Open In Colab\"/></a>"
      ]
    },
    {
      "cell_type": "markdown",
      "source": [
        "# Prediction of Product Sales\n",
        "  - Tiniq Faria\n"
      ],
      "metadata": {
        "id": "pM4oeWgaj8Sy"
      }
    },
    {
      "cell_type": "markdown",
      "source": [
        "- ## \"Project Overview\""
      ],
      "metadata": {
        "id": "KmhsqlGNnnTH"
      }
    },
    {
      "cell_type": "code",
      "source": [],
      "metadata": {
        "id": "XifUO9JNn59z"
      },
      "execution_count": null,
      "outputs": []
    },
    {
      "cell_type": "markdown",
      "source": [
        "- ## \"Load and Inspect Data\""
      ],
      "metadata": {
        "id": "RS13ndJ9mG9p"
      }
    },
    {
      "cell_type": "code",
      "source": [],
      "metadata": {
        "id": "gXNsS2u8n6tF"
      },
      "execution_count": null,
      "outputs": []
    },
    {
      "cell_type": "markdown",
      "source": [
        "- ## \"Clean Data\""
      ],
      "metadata": {
        "id": "Yap19GiIn_Wd"
      }
    },
    {
      "cell_type": "code",
      "source": [],
      "metadata": {
        "id": "7T5gbnAvoEgI"
      },
      "execution_count": null,
      "outputs": []
    },
    {
      "cell_type": "markdown",
      "source": [
        "- ## \"Exploratory Data Analysis\""
      ],
      "metadata": {
        "id": "FNM16NwYoFID"
      }
    },
    {
      "cell_type": "code",
      "source": [],
      "metadata": {
        "id": "h4zcXLJyoIm1"
      },
      "execution_count": null,
      "outputs": []
    },
    {
      "cell_type": "markdown",
      "source": [
        "- ## \"Feature Inspection\""
      ],
      "metadata": {
        "id": "Vw3lRzVioI4k"
      }
    },
    {
      "cell_type": "code",
      "source": [],
      "metadata": {
        "id": "Jn-JnL9uoMs-"
      },
      "execution_count": null,
      "outputs": []
    }
  ]
}